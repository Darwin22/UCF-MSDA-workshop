{
 "cells": [
  {
   "cell_type": "markdown",
   "metadata": {},
   "source": [
    "## Simple example -- pairwise distance\n",
    "\n",
    "Suppose we have `N` vectors in $\\mathbb{R}^3$, stored as a $3 \\times N$ matrix and labeled $x_1 \\in \\mathbb{R}^3$, $x_2 \\in \\mathbb{R}^3$, ..., $x_N \\in \\mathbb{R}^3$\n",
    "\n",
    "Suppose we also have a metric function $\\rho: \\mathbb{R}^3 \\times \\mathbb{R}^3 \\rightarrow \\mathbb{R}^+$  that we would like to apply to each pair of vectors to compute an $N \\times N$ matrix $D$, where the $i,j$ element is give by $D_{i,j} = \\rho(x_i, x_j)$\n",
    "\n",
    "Let's start with the Euclidean (L2) norm $\\rho(x, y) = \\sqrt{\\sum_{i=1}^3(x_i - y_i)^2}$\n",
    "\n",
    "Here's how we might compute this in Julia"
   ]
  },
  {
   "cell_type": "code",
   "execution_count": 19,
   "metadata": {},
   "outputs": [
    {
     "data": {
      "text/plain": [
       "3×1500 Array{Float64,2}:\n",
       " -0.391776   0.233421   1.06281    …   0.98919    0.877327  -0.766027 \n",
       " -1.74568   -0.496354   0.0830358     -0.919035  -0.918698   0.0799679\n",
       "  0.215267  -0.174774  -1.24064        0.996978  -0.367617  -0.808813 "
      ]
     },
     "execution_count": 19,
     "metadata": {},
     "output_type": "execute_result"
    }
   ],
   "source": [
    "N = 1500\n",
    "X = randn(3, N)  # create the matrix of random numbers drawn from N(0, 1)"
   ]
  },
  {
   "cell_type": "code",
   "execution_count": 21,
   "metadata": {},
   "outputs": [
    {
     "name": "stdout",
     "output_type": "stream",
     "text": [
      "  1.498281 seconds (9.71 M allocations: 840.869 MiB, 3.92% gc time)\n"
     ]
    },
    {
     "data": {
      "text/plain": [
       "1500×1500 Array{Float64,2}:\n",
       " 0.0       1.45046   2.75312   2.5337   …  1.78927  1.62304   2.12645 \n",
       " 1.45046   0.0       1.46957   2.36042     1.457    0.793838  1.31645 \n",
       " 2.75312   1.46957   0.0       2.7381      2.45286  1.34166   1.87913 \n",
       " 2.5337    2.36042   2.7381    0.0         1.4748   1.72983   3.658   \n",
       " 2.81576   1.60544   1.78386   2.3082      1.5051   1.67721   2.50934 \n",
       " 0.904011  1.56532   3.02308   2.64512  …  1.47674  1.93099   2.28774 \n",
       " 1.78567   0.3992    1.29438   2.24088     1.35603  0.780843  1.53002 \n",
       " 2.40102   1.12455   1.42747   2.17739     1.347    1.22169   2.09679 \n",
       " 2.01506   0.746385  0.859161  2.12472     1.63157  0.574048  1.7231  \n",
       " 2.02436   1.02914   0.824419  2.31626     2.05878  0.72197   1.72467 \n",
       " 1.61772   0.181647  1.38744   2.37251  …  1.44729  0.83398   1.33852 \n",
       " 2.40135   1.10658   1.62365   2.61953     1.55257  1.5102    1.81974 \n",
       " 3.69417   2.5345    2.32126   2.50828     2.16384  2.40618   3.43299 \n",
       " ⋮                                      ⋱                             \n",
       " 1.65813   1.04998   1.32865   2.01373     1.85432  0.527293  1.94216 \n",
       " 2.40166   1.1511    1.73034   3.19675     2.06546  1.806     1.25517 \n",
       " 1.98459   1.90096   3.23325   3.11423  …  1.65699  2.43641   2.46037 \n",
       " 3.38136   3.33908   4.34121   5.46375     4.12055  4.11396   2.55298 \n",
       " 3.19383   2.87191   3.88273   3.23616     1.99059  3.1815    3.65282 \n",
       " 1.13898   1.21788   2.64185   2.37154     1.05797  1.60255   2.1216  \n",
       " 1.84852   0.627278  0.971756  2.59417     1.97194  0.87528   1.19003 \n",
       " 1.89796   1.67879   2.28992   3.79225  …  3.02737  2.15072   0.903387\n",
       " 2.37115   1.55822   2.04837   3.91039     2.91604  2.2349    0.289525\n",
       " 1.78927   1.457     2.45286   1.4748      0.0      1.36917   2.70918 \n",
       " 1.62304   0.793838  1.34166   1.72983     1.36917  0.0       1.97297 \n",
       " 2.12645   1.31645   1.87913   3.658       2.70918  1.97297   0.0     "
      ]
     },
     "execution_count": 21,
     "metadata": {},
     "output_type": "execute_result"
    }
   ],
   "source": [
    "function computeD(ρ, X)\n",
    "    m, N = size(X)\n",
    "    out = zeros(N, N)\n",
    "    for j in 1:N, i in 1:N\n",
    "        # [index...] notation. Colon means \"everything\" in dimension\n",
    "        out[i, j] = ρ(X[:, i], X[:, j])\n",
    "    end\n",
    "    out # implicit return of last expression in function\n",
    "end\n",
    "\n",
    "# short-hand function\n",
    "# the `.+` and `.^` apply \"elementwise\" to arguments\n",
    "# Can work with other functions `f` like `f.(arg1, arg2, arg3, ...)`\n",
    "ρ_l2(x, y) = sqrt(sum((x.-y).^2))\n",
    "\n",
    "@time D = computeD(ρ_l2, X)"
   ]
  },
  {
   "cell_type": "markdown",
   "metadata": {},
   "source": [
    "Let's test our work  by showing the diagonal is all zeros:\n"
   ]
  },
  {
   "cell_type": "code",
   "execution_count": 22,
   "metadata": {},
   "outputs": [
    {
     "data": {
      "text/plain": [
       "0.0"
      ]
     },
     "execution_count": 22,
     "metadata": {},
     "output_type": "execute_result"
    }
   ],
   "source": [
    "using LinearAlgebra: diag\n",
    "\n",
    "# notice  the `.` notation for `abs`\n",
    "maximum(abs.(diag(D) .- zeros(N)))"
   ]
  },
  {
   "cell_type": "markdown",
   "metadata": {},
   "source": [
    "## Python implementation\n",
    "\n",
    "So that we can gauge performance"
   ]
  },
  {
   "cell_type": "code",
   "execution_count": 23,
   "metadata": {},
   "outputs": [],
   "source": [
    "using PyCall"
   ]
  },
  {
   "cell_type": "code",
   "execution_count": 24,
   "metadata": {},
   "outputs": [
    {
     "data": {
      "text/plain": [
       "PyObject <function computeD at 0x137813268>"
      ]
     },
     "execution_count": 24,
     "metadata": {},
     "output_type": "execute_result"
    }
   ],
   "source": [
    "py\"\"\"\n",
    "import numpy as np\n",
    "\n",
    "def ρ_l2(x, y):\n",
    "    return np.sqrt(np.sum((x - y) ** 2))\n",
    "\n",
    "\n",
    "def computeD(X, ρ=ρ_l2):\n",
    "    m, N = X.shape\n",
    "    out = np.zeros((N, N))\n",
    "    for i in range(N):\n",
    "        for j in range(N):\n",
    "            out[i, j] = ρ(X[:, i], X[:, j])\n",
    "    return out\n",
    "\"\"\"\n",
    "\n",
    "py_computeD = py\"computeD\""
   ]
  },
  {
   "cell_type": "code",
   "execution_count": 25,
   "metadata": {},
   "outputs": [
    {
     "name": "stdout",
     "output_type": "stream",
     "text": [
      " 18.766631 seconds (45 allocations: 17.168 MiB, 0.03% gc time)\n"
     ]
    },
    {
     "data": {
      "text/plain": [
       "1500×1500 Array{Float64,2}:\n",
       " 0.0       1.45046   2.75312   2.5337   …  1.78927  1.62304   2.12645 \n",
       " 1.45046   0.0       1.46957   2.36042     1.457    0.793838  1.31645 \n",
       " 2.75312   1.46957   0.0       2.7381      2.45286  1.34166   1.87913 \n",
       " 2.5337    2.36042   2.7381    0.0         1.4748   1.72983   3.658   \n",
       " 2.81576   1.60544   1.78386   2.3082      1.5051   1.67721   2.50934 \n",
       " 0.904011  1.56532   3.02308   2.64512  …  1.47674  1.93099   2.28774 \n",
       " 1.78567   0.3992    1.29438   2.24088     1.35603  0.780843  1.53002 \n",
       " 2.40102   1.12455   1.42747   2.17739     1.347    1.22169   2.09679 \n",
       " 2.01506   0.746385  0.859161  2.12472     1.63157  0.574048  1.7231  \n",
       " 2.02436   1.02914   0.824419  2.31626     2.05878  0.72197   1.72467 \n",
       " 1.61772   0.181647  1.38744   2.37251  …  1.44729  0.83398   1.33852 \n",
       " 2.40135   1.10658   1.62365   2.61953     1.55257  1.5102    1.81974 \n",
       " 3.69417   2.5345    2.32126   2.50828     2.16384  2.40618   3.43299 \n",
       " ⋮                                      ⋱                             \n",
       " 1.65813   1.04998   1.32865   2.01373     1.85432  0.527293  1.94216 \n",
       " 2.40166   1.1511    1.73034   3.19675     2.06546  1.806     1.25517 \n",
       " 1.98459   1.90096   3.23325   3.11423  …  1.65699  2.43641   2.46037 \n",
       " 3.38136   3.33908   4.34121   5.46375     4.12055  4.11396   2.55298 \n",
       " 3.19383   2.87191   3.88273   3.23616     1.99059  3.1815    3.65282 \n",
       " 1.13898   1.21788   2.64185   2.37154     1.05797  1.60255   2.1216  \n",
       " 1.84852   0.627278  0.971756  2.59417     1.97194  0.87528   1.19003 \n",
       " 1.89796   1.67879   2.28992   3.79225  …  3.02737  2.15072   0.903387\n",
       " 2.37115   1.55822   2.04837   3.91039     2.91604  2.2349    0.289525\n",
       " 1.78927   1.457     2.45286   1.4748      0.0      1.36917   2.70918 \n",
       " 1.62304   0.793838  1.34166   1.72983     1.36917  0.0       1.97297 \n",
       " 2.12645   1.31645   1.87913   3.658       2.70918  1.97297   0.0     "
      ]
     },
     "execution_count": 25,
     "metadata": {},
     "output_type": "execute_result"
    }
   ],
   "source": [
    "@time py_D = py_computeD(X)"
   ]
  },
  {
   "cell_type": "code",
   "execution_count": 26,
   "metadata": {},
   "outputs": [
    {
     "data": {
      "text/plain": [
       "0.0"
      ]
     },
     "execution_count": 26,
     "metadata": {},
     "output_type": "execute_result"
    }
   ],
   "source": [
    "maximum(abs.(D .- py_D))"
   ]
  },
  {
   "cell_type": "markdown",
   "metadata": {},
   "source": [
    "On one run on my machine the Julia version took 1.49 seconds whereas the Python one took 18.76 seconds. \n",
    "\n",
    "This was a pretty much \"free\" speedup as the code was almost the same for both languages. It is not uncommon to se factors of 100 or 1000 when moving hand-written Python code to Julia\n",
    "\n",
    "Note that the code in each example was not meant to reach optimal performance, both implementations could be improved"
   ]
  },
  {
   "cell_type": "markdown",
   "metadata": {},
   "source": [
    "## Faster Julia version\n",
    "\n"
   ]
  },
  {
   "cell_type": "code",
   "execution_count": 34,
   "metadata": {},
   "outputs": [
    {
     "data": {
      "text/plain": [
       "computeD_l2 (generic function with 1 method)"
      ]
     },
     "execution_count": 34,
     "metadata": {},
     "output_type": "execute_result"
    }
   ],
   "source": [
    "function computeD_l2(X)\n",
    "    m, N = size(X)\n",
    "    out = zeros(N, N)\n",
    "    @inbounds for j in 1:N, i in 1:N\n",
    "        # [index...] notation. Colon means \"everything\" in dimension\n",
    "        val = 0.0\n",
    "        @simd for d in 1:m\n",
    "            val += (X[d, i] - X[d, j])^2\n",
    "        end\n",
    "        out[i, j] = sqrt(val)\n",
    "    end\n",
    "    out # implicit return of last expression in function\n",
    "end"
   ]
  },
  {
   "cell_type": "code",
   "execution_count": 70,
   "metadata": {},
   "outputs": [
    {
     "name": "stdout",
     "output_type": "stream",
     "text": [
      "  0.020914 seconds (6 allocations: 17.166 MiB)\n"
     ]
    }
   ],
   "source": [
    "@time D2 = computeD_l2(X);"
   ]
  },
  {
   "cell_type": "code",
   "execution_count": 38,
   "metadata": {},
   "outputs": [
    {
     "data": {
      "text/plain": [
       "8.881784197001252e-16"
      ]
     },
     "execution_count": 38,
     "metadata": {},
     "output_type": "execute_result"
    }
   ],
   "source": [
    "maximum(abs.(D .- D2))"
   ]
  },
  {
   "cell_type": "markdown",
   "metadata": {},
   "source": [
    "On my machine this version of code ran the computation in 0.0095 seconds -- that's a 157x speedup over the original Julia and a 1978x speedup over the Python\n",
    "\n",
    "With Julia it is possible to write \"lower level\" code and get drastically better performance\n",
    "\n",
    "Sometimes you might hear that \"in Julia you can get C-like performance if you write C-like code\"\n",
    "\n",
    "This is typically not possible in other common data analytics languages like Python, Matlab, or R"
   ]
  },
  {
   "cell_type": "code",
   "execution_count": null,
   "metadata": {},
   "outputs": [],
   "source": []
  }
 ],
 "metadata": {
  "@webio": {
   "lastCommId": null,
   "lastKernelId": null
  },
  "kernelspec": {
   "display_name": "Julia 1.1.0",
   "language": "julia",
   "name": "julia-1.1"
  },
  "language_info": {
   "file_extension": ".jl",
   "mimetype": "application/julia",
   "name": "julia",
   "version": "1.1.0"
  }
 },
 "nbformat": 4,
 "nbformat_minor": 2
}
